{
  "cells": [
    {
      "cell_type": "markdown",
      "id": "55cc33e2",
      "metadata": {
        "id": "55cc33e2"
      },
      "source": [
        "# Split the Data"
      ]
    },
    {
      "cell_type": "code",
      "execution_count": null,
      "id": "01873a6a",
      "metadata": {
        "id": "01873a6a"
      },
      "outputs": [],
      "source": [
        "import warnings\n",
        "\n",
        "# Ignore all warnings\n",
        "warnings.filterwarnings(\"ignore\")\n",
        "\n",
        "import os\n",
        "import shutil\n",
        "from sklearn.model_selection import train_test_split\n",
        "\n",
        "# List of classes\n",
        "classes = ['cloudy', 'desert', 'green_area', 'water']\n",
        "\n",
        "# Paths\n",
        "base_dir = \"data\"\n",
        "train_dir = os.path.join(base_dir, \"train\")\n",
        "val_dir = os.path.join(base_dir, \"validate\")\n",
        "test_dir = os.path.join(base_dir, \"test\")\n",
        "\n",
        "# Loop over classes\n",
        "for class_name in classes:\n",
        "    class_source_dir = os.path.join(base_dir, \"source\", class_name)  # Path to class folder\n",
        "\n",
        "    # Get the list of images in the class folder\n",
        "    images = os.listdir(class_source_dir)\n",
        "\n",
        "    # Split into train and test sets\n",
        "    train_images, test_images = train_test_split(images, test_size=0.2, random_state=42)\n",
        "\n",
        "    # Split test set into validation and test sets\n",
        "    val_images, test_images = train_test_split(test_images, test_size=0.5, random_state=42)\n",
        "\n",
        "    # Create destination directories if they don't exist\n",
        "    train_class_dir = os.path.join(train_dir, class_name)\n",
        "    val_class_dir = os.path.join(val_dir, class_name)\n",
        "    test_class_dir = os.path.join(test_dir, class_name)\n",
        "\n",
        "    os.makedirs(train_class_dir, exist_ok=True)\n",
        "    os.makedirs(val_class_dir, exist_ok=True)\n",
        "    os.makedirs(test_class_dir, exist_ok=True)\n",
        "\n",
        "    # Move training images\n",
        "    for image in train_images:\n",
        "        source_path = os.path.join(class_source_dir, image)\n",
        "        destination_path = os.path.join(train_class_dir, image)\n",
        "        shutil.move(source_path, destination_path)\n",
        "\n",
        "    # Move validation images\n",
        "    for image in val_images:\n",
        "        source_path = os.path.join(class_source_dir, image)\n",
        "        destination_path = os.path.join(val_class_dir, image)\n",
        "        shutil.move(source_path, destination_path)\n",
        "\n",
        "    # Move test images\n",
        "    for image in test_images:\n",
        "        source_path = os.path.join(class_source_dir, image)\n",
        "        destination_path = os.path.join(test_class_dir, image)\n",
        "        shutil.move(source_path, destination_path)"
      ]
    },
    {
      "cell_type": "markdown",
      "source": [
        "# The Model"
      ],
      "metadata": {
        "id": "_98cVPcPrGMj"
      },
      "id": "_98cVPcPrGMj"
    },
    {
      "cell_type": "markdown",
      "source": [
        "## Training"
      ],
      "metadata": {
        "id": "dPE1P68jrL9J"
      },
      "id": "dPE1P68jrL9J"
    },
    {
      "cell_type": "code",
      "execution_count": null,
      "id": "a6eaf44b",
      "metadata": {
        "id": "a6eaf44b",
        "outputId": "ca390c95-d1c2-42f2-eee9-e9909b6dffea"
      },
      "outputs": [
        {
          "name": "stdout",
          "output_type": "stream",
          "text": [
            "Epoch 0/24\n",
            "----------\n",
            "train Loss: 0.5118 Acc: 0.8244\n",
            "validate Loss: 0.1118 Acc: 0.9822\n",
            "\n",
            "Epoch 1/24\n",
            "----------\n",
            "train Loss: 0.2554 Acc: 0.9194\n",
            "validate Loss: 0.0858 Acc: 0.9787\n",
            "\n",
            "Epoch 2/24\n",
            "----------\n",
            "train Loss: 0.1932 Acc: 0.9438\n",
            "validate Loss: 0.0544 Acc: 0.9822\n",
            "\n",
            "Epoch 3/24\n",
            "----------\n",
            "train Loss: 0.1634 Acc: 0.9512\n",
            "validate Loss: 0.1691 Acc: 0.9396\n",
            "\n",
            "Validation loss hasn't improved for the last 3 epochs. Stopping training.\n",
            "Training complete\n"
          ]
        }
      ],
      "source": [
        "import warnings\n",
        "\n",
        "# Ignore all warnings\n",
        "warnings.filterwarnings(\"ignore\")\n",
        "\n",
        "import torch\n",
        "import torchvision\n",
        "import torch.optim as optim\n",
        "import torch.nn as nn\n",
        "from torchvision import datasets, models, transforms\n",
        "import os\n",
        "\n",
        "# Define transforms for the training and validation sets\n",
        "data_transforms = {\n",
        "    'train': transforms.Compose([\n",
        "        transforms.RandomResizedCrop(224),\n",
        "        transforms.RandomHorizontalFlip(),\n",
        "        transforms.ToTensor(),\n",
        "        transforms.Normalize([0.485, 0.456, 0.406], [0.229, 0.224, 0.225])\n",
        "    ]),\n",
        "    'validate': transforms.Compose([\n",
        "        transforms.Resize(256),\n",
        "        transforms.CenterCrop(224),\n",
        "        transforms.ToTensor(),\n",
        "        transforms.Normalize([0.485, 0.456, 0.406], [0.229, 0.224, 0.225])\n",
        "    ]),\n",
        "}\n",
        "\n",
        "# Load the datasets with ImageFolder\n",
        "data_dir = \"data\"\n",
        "image_datasets = {\n",
        "    x: datasets.ImageFolder(os.path.join(data_dir, x), data_transforms[x])\n",
        "    for x in ['train', 'validate']\n",
        "}\n",
        "\n",
        "# Define the dataloaders\n",
        "dataloaders = {\n",
        "    x: torch.utils.data.DataLoader(image_datasets[x], batch_size=4, shuffle=True, num_workers=4)\n",
        "    for x in ['train', 'validate']\n",
        "}\n",
        "\n",
        "# Detect if we have a GPU available\n",
        "device = torch.device(\"cuda:0\" if torch.cuda.is_available() else \"cpu\")\n",
        "\n",
        "# Load the pre-trained ResNet18 model from torchvision.models\n",
        "model = models.resnet18(pretrained=True)\n",
        "\n",
        "# Replace the final fully connected layer\n",
        "num_ftrs = model.fc.in_features\n",
        "model.fc = nn.Linear(num_ftrs, 4)  # Set the number of output classes\n",
        "\n",
        "# Move the model to GPU if available\n",
        "model = model.to(device)\n",
        "\n",
        "# Define the criterion\n",
        "criterion = nn.CrossEntropyLoss()\n",
        "\n",
        "# Observe that all parameters are being optimized\n",
        "optimizer = optim.SGD(model.parameters(), lr=0.001)\n",
        "\n",
        "\n",
        "# Define number of epochs\n",
        "num_epochs = 25\n",
        "\n",
        "# Train the model\n",
        "best_loss = float('inf')  # Initialize with a large value\n",
        "for epoch in range(num_epochs):\n",
        "    print('Epoch {}/{}'.format(epoch, num_epochs - 1))\n",
        "    print('-' * 10)\n",
        "\n",
        "    # Each epoch has a training and validation phase\n",
        "    for phase in ['train', 'validate']:\n",
        "        if phase == 'train':\n",
        "            model.train()  # Set model to training mode\n",
        "        else:\n",
        "            model.eval()   # Set model to evaluation mode\n",
        "\n",
        "        running_loss = 0.0\n",
        "        running_corrects = 0\n",
        "\n",
        "        # Iterate over data\n",
        "        for inputs, labels in dataloaders[phase]:\n",
        "            inputs = inputs.to(device)\n",
        "            labels = labels.to(device)\n",
        "\n",
        "            # Forward pass\n",
        "            with torch.set_grad_enabled(phase == 'train'):\n",
        "                outputs = model(inputs)\n",
        "                _, preds = torch.max(outputs, 1)\n",
        "                loss = criterion(outputs, labels)\n",
        "\n",
        "            # Backward pass and optimization only in training phase\n",
        "            if phase == 'train':\n",
        "                optimizer.zero_grad()\n",
        "                loss.backward()\n",
        "                optimizer.step()\n",
        "\n",
        "            # Update statistics\n",
        "            running_loss += loss.item() * inputs.size(0)\n",
        "            running_corrects += torch.sum(preds == labels.data)\n",
        "\n",
        "        epoch_loss = running_loss / len(image_datasets[phase])\n",
        "        epoch_acc = running_corrects.double() / len(image_datasets[phase])\n",
        "\n",
        "        print('{} Loss: {:.4f} Acc: {:.4f}'.format(phase, epoch_loss, epoch_acc))\n",
        "\n",
        "        # Check if validation loss is higher than training loss\n",
        "        if phase == 'validate' and epoch_loss > running_loss:\n",
        "            print(\"Validation loss is higher than training loss. Stopping training.\")\n",
        "            break\n",
        "\n",
        "        # Update best loss if validation loss is lower\n",
        "        if phase == 'validate' and epoch_loss < best_loss:\n",
        "            best_loss = epoch_loss\n",
        "\n",
        "    print()\n",
        "\n",
        "    # Check if validation loss hasn't improved for the last 3 epochs\n",
        "    if epoch > 2 and epoch_loss > best_loss:\n",
        "        print(\"Validation loss hasn't improved for the last 3 epochs. Stopping training.\")\n",
        "        break\n",
        "\n",
        "print('Training complete')"
      ]
    },
    {
      "cell_type": "markdown",
      "id": "c45d3752",
      "metadata": {
        "id": "c45d3752"
      },
      "source": [
        "## Validation"
      ]
    },
    {
      "cell_type": "code",
      "execution_count": null,
      "id": "46727aa1",
      "metadata": {
        "id": "46727aa1",
        "outputId": "f84c70a1-c553-4537-d3d2-c5e58a94b1d1"
      },
      "outputs": [
        {
          "name": "stdout",
          "output_type": "stream",
          "text": [
            "Validating the model...\n",
            "Validation Acc: 0.9396\n"
          ]
        }
      ],
      "source": [
        "#Transform the test and validation data\n",
        "test_transforms = transforms.Compose([\n",
        "    transforms.Resize(256),\n",
        "    transforms.CenterCrop(224),\n",
        "    transforms.ToTensor(),\n",
        "    transforms.Normalize([0.485, 0.456, 0.406], [0.229, 0.224, 0.225])\n",
        "])\n",
        "\n",
        "# Load the validation dataset\n",
        "validation_dataset = datasets.ImageFolder(os.path.join(data_dir, 'validate'), test_transforms)\n",
        "validation_dataloader = torch.utils.data.DataLoader(validation_dataset, batch_size=4, shuffle=True, num_workers=4)\n",
        "\n",
        "\n",
        "def validate(model, dataloader):\n",
        "    model.eval()  # Set model to evaluate mode\n",
        "    running_corrects = 0\n",
        "    total_samples = 0\n",
        "\n",
        "    # Iterate over data\n",
        "    for inputs, labels in dataloader:\n",
        "        inputs = inputs.to(device)\n",
        "        labels = labels.to(device)\n",
        "        total_samples += labels.size(0)\n",
        "\n",
        "        # Forward pass\n",
        "        with torch.set_grad_enabled(False):\n",
        "            outputs = model(inputs)\n",
        "            _, preds = torch.max(outputs, 1)\n",
        "\n",
        "        # Statistics\n",
        "        running_corrects += torch.sum(preds == labels.data)\n",
        "\n",
        "    accuracy = running_corrects.double() / total_samples\n",
        "\n",
        "    print('Validation Acc: {:.4f}'.format(accuracy))\n",
        "\n",
        "# Call the validation function\n",
        "print(\"Validating the model...\")\n",
        "validate(model, validation_dataloader)"
      ]
    },
    {
      "cell_type": "markdown",
      "id": "932c2e0c",
      "metadata": {
        "id": "932c2e0c"
      },
      "source": [
        "## Test"
      ]
    },
    {
      "cell_type": "code",
      "execution_count": null,
      "id": "fd5fb9e4",
      "metadata": {
        "id": "fd5fb9e4",
        "outputId": "1fc6dbbe-52b7-494f-c2f6-dcf2dc568c77"
      },
      "outputs": [
        {
          "name": "stdout",
          "output_type": "stream",
          "text": [
            "Testing the model...\n",
            "Test Acc: 0.9096\n"
          ]
        }
      ],
      "source": [
        "# Load the test dataset\n",
        "test_dataset = datasets.ImageFolder(os.path.join(data_dir, 'test'), test_transforms)\n",
        "test_dataloader = torch.utils.data.DataLoader(test_dataset, batch_size=4, shuffle=True, num_workers=4)\n",
        "\n",
        "def test(model, dataloader):\n",
        "    model.eval()  # Set model to evaluate mode\n",
        "    running_corrects = 0\n",
        "    total_samples = 0\n",
        "\n",
        "    # Iterate over data\n",
        "    for inputs, labels in dataloader:\n",
        "        inputs = inputs.to(device)\n",
        "        labels = labels.to(device)\n",
        "        total_samples += labels.size(0)\n",
        "\n",
        "        # Forward pass\n",
        "        with torch.set_grad_enabled(False):\n",
        "            outputs = model(inputs)\n",
        "            _, preds = torch.max(outputs, 1)\n",
        "\n",
        "        # Statistics\n",
        "        running_corrects += torch.sum(preds == labels.data)\n",
        "\n",
        "    accuracy = running_corrects.double() / total_samples\n",
        "\n",
        "    print('Test Acc: {:.4f}'.format(accuracy))\n",
        "\n",
        "# Call the test function\n",
        "print(\"Testing the model...\")\n",
        "test(model, test_dataloader)"
      ]
    },
    {
      "cell_type": "markdown",
      "source": [
        "## Preformance"
      ],
      "metadata": {
        "id": "DzHDB-Jurk9f"
      },
      "id": "DzHDB-Jurk9f"
    },
    {
      "cell_type": "code",
      "execution_count": null,
      "id": "4a5e21aa",
      "metadata": {
        "id": "4a5e21aa",
        "outputId": "f2c7b27f-66a6-419c-8583-ad5779a4e768"
      },
      "outputs": [
        {
          "name": "stdout",
          "output_type": "stream",
          "text": [
            "Computing metrics on test set...\n",
            "Confusion Matrix:\n",
            "[[150   0   0   0]\n",
            " [  0 114   0   0]\n",
            " [  0   0 101  49]\n",
            " [  1   0   1 148]]\n",
            "Classification Report:\n",
            "              precision    recall  f1-score   support\n",
            "\n",
            "      cloudy       0.99      1.00      1.00       150\n",
            "      desert       1.00      1.00      1.00       114\n",
            "  green_area       0.99      0.67      0.80       150\n",
            "       water       0.75      0.99      0.85       150\n",
            "\n",
            "    accuracy                           0.91       564\n",
            "   macro avg       0.93      0.92      0.91       564\n",
            "weighted avg       0.93      0.91      0.91       564\n",
            "\n"
          ]
        }
      ],
      "source": [
        "from sklearn.metrics import confusion_matrix, classification_report\n",
        "import numpy as np\n",
        "\n",
        "def compute_metrics(model, dataloader):\n",
        "    model.eval()\n",
        "    all_preds = []\n",
        "    all_labels = []\n",
        "\n",
        "    # Iterate over data\n",
        "    for inputs, labels in dataloader:\n",
        "        inputs = inputs.to(device)\n",
        "        labels = labels.to(device)\n",
        "\n",
        "        # Forward pass\n",
        "        with torch.set_grad_enabled(False):\n",
        "            outputs = model(inputs)\n",
        "            _, preds = torch.max(outputs, 1)\n",
        "\n",
        "        # Save all predictions and true labels\n",
        "        all_preds.extend(preds.cpu().numpy())\n",
        "        all_labels.extend(labels.cpu().numpy())\n",
        "\n",
        "    # Compute confusion matrix\n",
        "    cm = confusion_matrix(all_labels, all_preds)\n",
        "    print('Confusion Matrix:')\n",
        "    print(cm)\n",
        "\n",
        "    # Compute classification report\n",
        "    cr = classification_report(all_labels, all_preds, target_names=dataloader.dataset.classes)\n",
        "    print('Classification Report:')\n",
        "    print(cr)\n",
        "\n",
        "# Compute metrics on test set\n",
        "print(\"Computing metrics on test set...\")\n",
        "compute_metrics(model, test_dataloader)"
      ]
    }
  ],
  "metadata": {
    "kernelspec": {
      "display_name": "Python 3 (ipykernel)",
      "language": "python",
      "name": "python3"
    },
    "language_info": {
      "codemirror_mode": {
        "name": "ipython",
        "version": 3
      },
      "file_extension": ".py",
      "mimetype": "text/x-python",
      "name": "python",
      "nbconvert_exporter": "python",
      "pygments_lexer": "ipython3",
      "version": "3.9.13"
    },
    "colab": {
      "provenance": []
    }
  },
  "nbformat": 4,
  "nbformat_minor": 5
}